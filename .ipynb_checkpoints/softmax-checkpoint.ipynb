{
 "cells": [
  {
   "cell_type": "markdown",
   "metadata": {},
   "source": [
    "# Softmax exercise\n",
    "\n",
    "*Complete and hand in this completed worksheet (including its outputs and any supporting code outside of the worksheet) with your assignment submission. For more details see the [assignments page](http://vision.stanford.edu/teaching/cs231n/assignments.html) on the course website.*\n",
    "\n",
    "This exercise is analogous to the SVM exercise. You will:\n",
    "\n",
    "- implement a fully-vectorized **loss function** for the Softmax classifier\n",
    "- implement the fully-vectorized expression for its **analytic gradient**\n",
    "- **check your implementation** with numerical gradient\n",
    "- use a validation set to **tune the learning rate and regularization** strength\n",
    "- **optimize** the loss function with **SGD**\n",
    "- **visualize** the final learned weights\n"
   ]
  },
  {
   "cell_type": "code",
   "execution_count": 1,
   "metadata": {
    "collapsed": true
   },
   "outputs": [],
   "source": [
    "import random\n",
    "import numpy as np\n",
    "from cs231n.data_utils import load_CIFAR10\n",
    "import matplotlib.pyplot as plt\n",
    "\n",
    "from __future__ import print_function\n",
    "\n",
    "%matplotlib inline\n",
    "plt.rcParams['figure.figsize'] = (10.0, 8.0) # set default size of plots\n",
    "plt.rcParams['image.interpolation'] = 'nearest'\n",
    "plt.rcParams['image.cmap'] = 'gray'\n",
    "\n",
    "# for auto-reloading extenrnal modules\n",
    "# see http://stackoverflow.com/questions/1907993/autoreload-of-modules-in-ipython\n",
    "%load_ext autoreload\n",
    "%autoreload 2"
   ]
  },
  {
   "cell_type": "code",
   "execution_count": 2,
   "metadata": {},
   "outputs": [
    {
     "name": "stdout",
     "output_type": "stream",
     "text": [
      "Train data shape:  (49000, 3073)\n",
      "Train labels shape:  (49000,)\n",
      "Validation data shape:  (1000, 3073)\n",
      "Validation labels shape:  (1000,)\n",
      "Test data shape:  (1000, 3073)\n",
      "Test labels shape:  (1000,)\n",
      "dev data shape:  (500, 3073)\n",
      "dev labels shape:  (500,)\n"
     ]
    }
   ],
   "source": [
    "def get_CIFAR10_data(num_training=49000, num_validation=1000, num_test=1000, num_dev=500):\n",
    "    \"\"\"\n",
    "    Load the CIFAR-10 dataset from disk and perform preprocessing to prepare\n",
    "    it for the linear classifier. These are the same steps as we used for the\n",
    "    SVM, but condensed to a single function.  \n",
    "    \"\"\"\n",
    "    # Load the raw CIFAR-10 data\n",
    "    cifar10_dir = 'cs231n/datasets/cifar-10-batches-py'\n",
    "    X_train, y_train, X_test, y_test = load_CIFAR10(cifar10_dir)\n",
    "    \n",
    "    # subsample the data\n",
    "    mask = list(range(num_training, num_training + num_validation))\n",
    "    X_val = X_train[mask]\n",
    "    y_val = y_train[mask]\n",
    "    mask = list(range(num_training))\n",
    "    X_train = X_train[mask]\n",
    "    y_train = y_train[mask]\n",
    "    mask = list(range(num_test))\n",
    "    X_test = X_test[mask]\n",
    "    y_test = y_test[mask]\n",
    "    mask = np.random.choice(num_training, num_dev, replace=False)\n",
    "    X_dev = X_train[mask]\n",
    "    y_dev = y_train[mask]\n",
    "    \n",
    "    # Preprocessing: reshape the image data into rows\n",
    "    X_train = np.reshape(X_train, (X_train.shape[0], -1))\n",
    "    X_val = np.reshape(X_val, (X_val.shape[0], -1))\n",
    "    X_test = np.reshape(X_test, (X_test.shape[0], -1))\n",
    "    X_dev = np.reshape(X_dev, (X_dev.shape[0], -1))\n",
    "    \n",
    "    # Normalize the data: subtract the mean image\n",
    "    mean_image = np.mean(X_train, axis = 0)\n",
    "    X_train -= mean_image\n",
    "    X_val -= mean_image\n",
    "    X_test -= mean_image\n",
    "    X_dev -= mean_image\n",
    "    \n",
    "    # add bias dimension and transform into columns\n",
    "    X_train = np.hstack([X_train, np.ones((X_train.shape[0], 1))])\n",
    "    X_val = np.hstack([X_val, np.ones((X_val.shape[0], 1))])\n",
    "    X_test = np.hstack([X_test, np.ones((X_test.shape[0], 1))])\n",
    "    X_dev = np.hstack([X_dev, np.ones((X_dev.shape[0], 1))])\n",
    "    \n",
    "    return X_train, y_train, X_val, y_val, X_test, y_test, X_dev, y_dev\n",
    "\n",
    "\n",
    "# Invoke the above function to get our data.\n",
    "X_train, y_train, X_val, y_val, X_test, y_test, X_dev, y_dev = get_CIFAR10_data()\n",
    "print('Train data shape: ', X_train.shape)\n",
    "print('Train labels shape: ', y_train.shape)\n",
    "print('Validation data shape: ', X_val.shape)\n",
    "print('Validation labels shape: ', y_val.shape)\n",
    "print('Test data shape: ', X_test.shape)\n",
    "print('Test labels shape: ', y_test.shape)\n",
    "print('dev data shape: ', X_dev.shape)\n",
    "print('dev labels shape: ', y_dev.shape)"
   ]
  },
  {
   "cell_type": "markdown",
   "metadata": {},
   "source": [
    "## Softmax Classifier\n",
    "\n",
    "Your code for this section will all be written inside **cs231n/classifiers/softmax.py**. \n"
   ]
  },
  {
   "cell_type": "code",
   "execution_count": 3,
   "metadata": {},
   "outputs": [
    {
     "name": "stdout",
     "output_type": "stream",
     "text": [
      "loss: 2.297442\n",
      "sanity check: 2.302585\n"
     ]
    }
   ],
   "source": [
    "# First implement the naive softmax loss function with nested loops.\n",
    "# Open the file cs231n/classifiers/softmax.py and implement the\n",
    "# softmax_loss_naive function.\n",
    "\n",
    "from cs231n.classifiers.softmax import softmax_loss_naive\n",
    "import time\n",
    "\n",
    "# Generate a random softmax weight matrix and use it to compute the loss.\n",
    "W = np.random.randn(3073, 10) * 0.0001\n",
    "loss, grad = softmax_loss_naive(W, X_dev, y_dev, 0.0)\n",
    "\n",
    "# As a rough sanity check, our loss should be something close to -log(0.1).\n",
    "print('loss: %f' % loss)\n",
    "print('sanity check: %f' % (-np.log(0.1)))"
   ]
  },
  {
   "cell_type": "markdown",
   "metadata": {},
   "source": [
    "## Inline Question 1:\n",
    "Why do we expect our loss to be close to -log(0.1)? Explain briefly.**\n",
    "\n",
    "**Your answer:** *Fill this in*\n"
   ]
  },
  {
   "cell_type": "code",
   "execution_count": 13,
   "metadata": {},
   "outputs": [
    {
     "name": "stdout",
     "output_type": "stream",
     "text": [
      "numerical: 0.072105 analytic: 0.072105, relative error: 6.240871e-07\n",
      "numerical: -0.921975 analytic: -0.921975, relative error: 7.032322e-08\n",
      "numerical: 0.122780 analytic: 0.122780, relative error: 5.381650e-07\n",
      "numerical: -3.543957 analytic: -3.543958, relative error: 1.327701e-08\n",
      "numerical: -0.680084 analytic: -0.680084, relative error: 7.044634e-08\n",
      "numerical: -1.242669 analytic: -1.242669, relative error: 6.569962e-08\n",
      "numerical: -1.229815 analytic: -1.229815, relative error: 8.054506e-09\n",
      "numerical: -6.571404 analytic: -6.571404, relative error: 2.739182e-09\n",
      "numerical: 0.127424 analytic: 0.127424, relative error: 2.610484e-07\n",
      "numerical: -0.332082 analytic: -0.332082, relative error: 2.083403e-08\n",
      "numerical: -1.380999 analytic: -1.385526, relative error: 1.636366e-03\n",
      "numerical: 0.002095 analytic: 0.017214, relative error: 7.830401e-01\n",
      "numerical: 1.089949 analytic: 1.090314, relative error: 1.676075e-04\n",
      "numerical: -1.535968 analytic: -1.544961, relative error: 2.918660e-03\n",
      "numerical: 1.183022 analytic: 1.175630, relative error: 3.134064e-03\n",
      "numerical: -1.148322 analytic: -1.147995, relative error: 1.425921e-04\n",
      "numerical: 0.993946 analytic: 1.002043, relative error: 4.056712e-03\n",
      "numerical: 1.913563 analytic: 1.918968, relative error: 1.410299e-03\n",
      "numerical: 1.130152 analytic: 1.136132, relative error: 2.638745e-03\n",
      "numerical: -0.620444 analytic: -0.615729, relative error: 3.813757e-03\n"
     ]
    }
   ],
   "source": [
    "# Complete the implementation of softmax_loss_naive and implement a (naive)\n",
    "# version of the gradient that uses nested loops.\n",
    "loss, grad = softmax_loss_naive(W, X_dev, y_dev, 0.0)\n",
    "\n",
    "# As we did for the SVM, use numeric gradient checking as a debugging tool.\n",
    "# The numeric gradient should be close to the analytic gradient.\n",
    "from cs231n.gradient_check import grad_check_sparse\n",
    "f = lambda w: softmax_loss_naive(w, X_dev, y_dev, 0.0)[0]\n",
    "grad_numerical = grad_check_sparse(f, W, grad, 10)\n",
    "\n",
    "# similar to SVM case, do another gradient check with regularization\n",
    "loss, grad = softmax_loss_naive(W, X_dev, y_dev, 5e1)\n",
    "f = lambda w: softmax_loss_naive(w, X_dev, y_dev, 5e1)[0]\n",
    "grad_numerical = grad_check_sparse(f, W, grad, 10)"
   ]
  },
  {
   "cell_type": "code",
   "execution_count": 27,
   "metadata": {},
   "outputs": [
    {
     "name": "stdout",
     "output_type": "stream",
     "text": [
      "naive loss: 2.297442e+00 computed in 0.202884s\n",
      "vectorized loss: 2.297442e+00 computed in 0.004670s\n",
      "Loss difference: 0.000000\n",
      "Gradient difference: 280.870793\n"
     ]
    }
   ],
   "source": [
    "# Now that we have a naive implementation of the softmax loss function and its gradient,\n",
    "# implement a vectorized version in softmax_loss_vectorized.\n",
    "# The two versions should compute the same results, but the vectorized version should be\n",
    "# much faster.\n",
    "tic = time.time()\n",
    "loss_naive, grad_naive = softmax_loss_naive(W, X_dev, y_dev, 0.000005)\n",
    "toc = time.time()\n",
    "print('naive loss: %e computed in %fs' % (loss_naive, toc - tic))\n",
    "\n",
    "from cs231n.classifiers.softmax import softmax_loss_vectorized\n",
    "tic = time.time()\n",
    "loss_vectorized, grad_vectorized = softmax_loss_vectorized(W, X_dev, y_dev, 0.000005)\n",
    "toc = time.time()\n",
    "print('vectorized loss: %e computed in %fs' % (loss_vectorized, toc - tic))\n",
    "\n",
    "# As we did for the SVM, we use the Frobenius norm to compare the two versions\n",
    "# of the gradient.\n",
    "grad_difference = np.linalg.norm(grad_naive - grad_vectorized, ord='fro')\n",
    "print('Loss difference: %f' % np.abs(loss_naive - loss_vectorized))\n",
    "print('Gradient difference: %f' % grad_difference)"
   ]
  },
  {
   "cell_type": "code",
   "execution_count": 40,
   "metadata": {},
   "outputs": [
    {
     "name": "stdout",
     "output_type": "stream",
     "text": [
      "iteration 0 / 2500: loss 776.622416\n",
      "iteration 100 / 2500: loss 469.343150\n",
      "iteration 200 / 2500: loss 284.404456\n",
      "iteration 300 / 2500: loss 172.973463\n",
      "iteration 400 / 2500: loss 105.317368\n",
      "iteration 500 / 2500: loss 64.524059\n",
      "iteration 600 / 2500: loss 39.914851\n",
      "iteration 700 / 2500: loss 24.939589\n",
      "iteration 800 / 2500: loss 15.948278\n",
      "iteration 900 / 2500: loss 10.555975\n",
      "iteration 1000 / 2500: loss 7.180375\n",
      "iteration 1100 / 2500: loss 5.192449\n",
      "iteration 1200 / 2500: loss 3.989108\n",
      "iteration 1300 / 2500: loss 3.236297\n",
      "iteration 1400 / 2500: loss 2.787891\n",
      "iteration 1500 / 2500: loss 2.570512\n",
      "iteration 1600 / 2500: loss 2.371409\n",
      "iteration 1700 / 2500: loss 2.246917\n",
      "iteration 1800 / 2500: loss 2.233938\n",
      "iteration 1900 / 2500: loss 2.175203\n",
      "iteration 2000 / 2500: loss 2.122956\n",
      "iteration 2100 / 2500: loss 2.178219\n",
      "iteration 2200 / 2500: loss 2.173505\n",
      "iteration 2300 / 2500: loss 2.084835\n",
      "iteration 2400 / 2500: loss 2.171949\n",
      "iteration 0 / 2500: loss 1550.300669\n",
      "iteration 100 / 2500: loss 568.201923\n",
      "iteration 200 / 2500: loss 209.134522\n",
      "iteration 300 / 2500: loss 77.901713\n",
      "iteration 400 / 2500: loss 29.930967\n",
      "iteration 500 / 2500: loss 12.329066\n",
      "iteration 600 / 2500: loss 5.905714\n",
      "iteration 700 / 2500: loss 3.458867\n",
      "iteration 800 / 2500: loss 2.691340\n",
      "iteration 900 / 2500: loss 2.324312\n",
      "iteration 1000 / 2500: loss 2.288850\n",
      "iteration 1100 / 2500: loss 2.180633\n",
      "iteration 1200 / 2500: loss 2.156724\n",
      "iteration 1300 / 2500: loss 2.142203\n",
      "iteration 1400 / 2500: loss 2.234716\n",
      "iteration 1500 / 2500: loss 2.188621\n",
      "iteration 1600 / 2500: loss 2.154724\n",
      "iteration 1700 / 2500: loss 2.156796\n",
      "iteration 1800 / 2500: loss 2.196694\n",
      "iteration 1900 / 2500: loss 2.119498\n",
      "iteration 2000 / 2500: loss 2.119781\n",
      "iteration 2100 / 2500: loss 2.216512\n",
      "iteration 2200 / 2500: loss 2.158893\n",
      "iteration 2300 / 2500: loss 2.119214\n",
      "iteration 2400 / 2500: loss 2.211123\n",
      "iteration 0 / 2500: loss 775.122761\n",
      "iteration 100 / 2500: loss 63.806709\n",
      "iteration 200 / 2500: loss 7.044017\n",
      "iteration 300 / 2500: loss 2.476529\n",
      "iteration 400 / 2500: loss 2.136740\n",
      "iteration 500 / 2500: loss 2.075344\n",
      "iteration 600 / 2500: loss 2.178206\n",
      "iteration 700 / 2500: loss 2.113291\n",
      "iteration 800 / 2500: loss 2.106357\n",
      "iteration 900 / 2500: loss 2.175773\n",
      "iteration 1000 / 2500: loss 2.018850\n",
      "iteration 1100 / 2500: loss 2.081791\n",
      "iteration 1200 / 2500: loss 2.171681\n",
      "iteration 1300 / 2500: loss 2.111550\n",
      "iteration 1400 / 2500: loss 2.167335\n",
      "iteration 1500 / 2500: loss 2.112476\n",
      "iteration 1600 / 2500: loss 2.092763\n",
      "iteration 1700 / 2500: loss 2.157557\n",
      "iteration 1800 / 2500: loss 2.110684\n",
      "iteration 1900 / 2500: loss 2.193430\n",
      "iteration 2000 / 2500: loss 2.087942\n",
      "iteration 2100 / 2500: loss 2.121111\n",
      "iteration 2200 / 2500: loss 2.087942\n",
      "iteration 2300 / 2500: loss 2.069044\n",
      "iteration 2400 / 2500: loss 2.059343\n",
      "iteration 0 / 2500: loss 1550.253189\n",
      "iteration 100 / 2500: loss 11.779957\n",
      "iteration 200 / 2500: loss 2.188958\n",
      "iteration 300 / 2500: loss 2.164928\n",
      "iteration 400 / 2500: loss 2.180705\n",
      "iteration 500 / 2500: loss 2.174572\n",
      "iteration 600 / 2500: loss 2.194750\n",
      "iteration 700 / 2500: loss 2.194362\n",
      "iteration 800 / 2500: loss 2.193962\n",
      "iteration 900 / 2500: loss 2.216966\n",
      "iteration 1000 / 2500: loss 2.186857\n",
      "iteration 1100 / 2500: loss 2.196828\n",
      "iteration 1200 / 2500: loss 2.129885\n",
      "iteration 1300 / 2500: loss 2.152045\n",
      "iteration 1400 / 2500: loss 2.203142\n",
      "iteration 1500 / 2500: loss 2.229825\n",
      "iteration 1600 / 2500: loss 2.159575\n",
      "iteration 1700 / 2500: loss 2.195486\n",
      "iteration 1800 / 2500: loss 2.175134\n",
      "iteration 1900 / 2500: loss 2.129942\n",
      "iteration 2000 / 2500: loss 2.179977\n",
      "iteration 2100 / 2500: loss 2.153262\n",
      "iteration 2200 / 2500: loss 2.171315\n",
      "iteration 2300 / 2500: loss 2.205869\n",
      "iteration 2400 / 2500: loss 2.188023\n",
      "lr 1.000000e-07 reg 2.500000e+04 train accuracy: 0.353082 val accuracy: 0.364000\n",
      "lr 1.000000e-07 reg 5.000000e+04 train accuracy: 0.331673 val accuracy: 0.342000\n",
      "lr 5.000000e-07 reg 2.500000e+04 train accuracy: 0.348041 val accuracy: 0.351000\n",
      "lr 5.000000e-07 reg 5.000000e+04 train accuracy: 0.319102 val accuracy: 0.338000\n",
      "best validation accuracy achieved during cross-validation: 0.364000\n"
     ]
    }
   ],
   "source": [
    "# Use the validation set to tune hyperparameters (regularization strength and\n",
    "# learning rate). You should experiment with different ranges for the learning\n",
    "# rates and regularization strengths; if you are careful you should be able to\n",
    "# get a classification accuracy of over 0.35 on the validation set.\n",
    "from cs231n.classifiers import Softmax\n",
    "results = {}\n",
    "best_val = -1\n",
    "best_softmax = None\n",
    "learning_rates = [1e-7, 5e-7]\n",
    "regularization_strengths = [2.5e4, 5e4]\n",
    "\n",
    "################################################################################\n",
    "# TODO:                                                                        #\n",
    "# Use the validation set to set the learning rate and regularization strength. #\n",
    "# This should be identical to the validation that you did for the SVM; save    #\n",
    "# the best trained softmax classifer in best_softmax.                          #\n",
    "################################################################################\n",
    "for learning_rate in learning_rates:\n",
    "    for reg in regularization_strengths:\n",
    "        sftmax = Softmax()\n",
    "        loss_hist = sftmax.train(X_train, y_train, learning_rate=learning_rate, reg=reg,\n",
    "                      num_iters=2500, verbose=True)\n",
    "        y_train_pred = sftmax.predict(X_train)\n",
    "        y_val_pred = sftmax.predict(X_val)\n",
    "        results[(learning_rate,reg)] = (np.mean(y_train == y_train_pred),np.mean(y_val == y_val_pred))\n",
    "        if best_val < np.mean(y_val == y_val_pred):\n",
    "            best_val = np.mean(y_val == y_val_pred)\n",
    "            best_parameters = { 'LR':learning_rate, 'reg': reg}\n",
    "            best_softmax = sftmax\n",
    "################################################################################\n",
    "#                              END OF YOUR CODE                                #\n",
    "################################################################################\n",
    "    \n",
    "# Print out results.\n",
    "for lr, reg in sorted(results):\n",
    "    train_accuracy, val_accuracy = results[(lr, reg)]\n",
    "    print('lr %e reg %e train accuracy: %f val accuracy: %f' % (\n",
    "                lr, reg, train_accuracy, val_accuracy))\n",
    "    \n",
    "print('best validation accuracy achieved during cross-validation: %f' % best_val)"
   ]
  },
  {
   "cell_type": "code",
   "execution_count": 41,
   "metadata": {},
   "outputs": [
    {
     "name": "stdout",
     "output_type": "stream",
     "text": [
      "softmax on raw pixels final test set accuracy: 0.360000\n"
     ]
    }
   ],
   "source": [
    "# evaluate on test set\n",
    "# Evaluate the best softmax on test set\n",
    "y_test_pred = best_softmax.predict(X_test)\n",
    "test_accuracy = np.mean(y_test == y_test_pred)\n",
    "print('softmax on raw pixels final test set accuracy: %f' % (test_accuracy, ))"
   ]
  },
  {
   "cell_type": "code",
   "execution_count": 42,
   "metadata": {},
   "outputs": [
    {
     "data": {
      "image/png": "[encoded data removed]",
      "text/plain": [
       "<matplotlib.figure.Figure at 0x7f6b704156d8>"
      ]
     },
     "metadata": {},
     "output_type": "display_data"
    }
   ],
   "source": [
    "# Visualize the learned weights for each class\n",
    "w = best_softmax.W[:-1,:] # strip out the bias\n",
    "w = w.reshape(32, 32, 3, 10)\n",
    "\n",
    "w_min, w_max = np.min(w), np.max(w)\n",
    "\n",
    "classes = ['plane', 'car', 'bird', 'cat', 'deer', 'dog', 'frog', 'horse', 'ship', 'truck']\n",
    "for i in range(10):\n",
    "    plt.subplot(2, 5, i + 1)\n",
    "    \n",
    "    # Rescale the weights to be between 0 and 255\n",
    "    wimg = 255.0 * (w[:, :, :, i].squeeze() - w_min) / (w_max - w_min)\n",
    "    plt.imshow(wimg.astype('uint8'))\n",
    "    plt.axis('off')\n",
    "    plt.title(classes[i])"
   ]
  },
  {
   "cell_type": "code",
   "execution_count": null,
   "metadata": {
    "collapsed": true
   },
   "outputs": [],
   "source": []
  },
  {
   "cell_type": "code",
   "execution_count": null,
   "metadata": {
    "collapsed": true
   },
   "outputs": [],
   "source": []
  }
 ],
 "metadata": {
  "kernelspec": {
   "display_name": "Python 3",
   "language": "python",
   "name": "python3"
  },
  "language_info": {
   "codemirror_mode": {
    "name": "ipython",
    "version": 3
   },
   "file_extension": ".py",
   "mimetype": "text/x-python",
   "name": "python",
   "nbconvert_exporter": "python",
   "pygments_lexer": "ipython3",
   "version": "3.6.3"
  }
 },
 "nbformat": 4,
 "nbformat_minor": 1
}
